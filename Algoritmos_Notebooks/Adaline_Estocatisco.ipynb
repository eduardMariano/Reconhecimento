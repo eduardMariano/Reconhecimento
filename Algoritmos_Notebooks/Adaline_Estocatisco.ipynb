{
 "cells": [
  {
   "cell_type": "code",
   "execution_count": 3,
   "metadata": {
    "pycharm": {
     "is_executing": false
    }
   },
   "outputs": [
    {
     "name": "stdout",
     "output_type": "stream",
     "text": [
      "### ADALINE ###\n",
      "PARÂMETROS: \n",
      "\t Taxa de aprendizagem:  0.01\n",
      "\t Número máximo de épocas:  200\n",
      "\t Total de realizações:  2 \n",
      "\n",
      "### REALIZAÇÃO  1 ##########\n",
      "MSE: &  0.30535\n",
      "RMSE: &  0.55259\n",
      "##########################\n",
      "### REALIZAÇÃO  2 ##########\n",
      "MSE: &  0.44488\n",
      "RMSE: &  0.66699\n",
      "##########################\n",
      "MSE médio:  0.37511\n",
      "RMSE médio:  0.60979\n",
      "Desvio Padrão:  0.13952756259397325\n",
      "Plotando dados com o MSE minimo: \n"
     ]
    },
    {
     "data": {
      "image/png": "[encoded data removed]",
      "text/plain": [
       "<Figure size 432x288 with 1 Axes>"
      ]
     },
     "metadata": {
      "needs_background": "light"
     },
     "output_type": "display_data"
    },
    {
     "data": {
      "image/png": "[encoded data removed]",
      "text/plain": [
       "<Figure size 432x288 with 1 Axes>"
      ]
     },
     "metadata": {
      "needs_background": "light"
     },
     "output_type": "display_data"
    },
    {
     "name": "stdout",
     "output_type": "stream",
     "text": [
      "### FIM ADALINE ###\n"
     ]
    }
   ],
   "source": [
    "import numpy as np\n",
    "import matplotlib.pyplot as plt\n",
    "\n",
    "# Generate function ax + b\n",
    "def generateData2D(a, b):\n",
    "    x = np.linspace(0,10,50)\n",
    "    y = a * x + b\n",
    "    data = []\n",
    "    for i in range(len(y)):\n",
    "        y[i] += np.random.uniform(-1.0, 1.0)\n",
    "\n",
    "    for i, j in zip(x, y):\n",
    "        data.append([i, j])\n",
    "    \n",
    "    data = np.asarray(data)\n",
    "    data = insertbias(data)\n",
    "\n",
    "    return np.asarray(data)\n",
    "\n",
    "# Insert Bias\n",
    "def insertbias(data):\n",
    "    new = []\n",
    "    for i in range(len(data)):\n",
    "        new.append(np.insert(data[i], 0, -1))\n",
    "    return np.asarray(new)\n",
    "\n",
    "# Normalize data\n",
    "def normalize(data):\n",
    "    c = data.shape[1] - 1\n",
    "    for i in range(data.shape[1]):\n",
    "        if(i < c):\n",
    "            max_ = max(data[:, i])\n",
    "            min_ = min(data[:, i])\n",
    "            for j in range(data.shape[0]):\n",
    "                data[j, i] = (data[j, i] - min_) / (max_ - min_)\n",
    "    return data\n",
    "\n",
    "# Divide into train and test\n",
    "def divide(data):\n",
    "    np.random.shuffle(data)\n",
    "    return data[0: int(len(data) * 0.8)], data[int(len(data) * 0.8):]\n",
    "\n",
    "# Create weights\n",
    "def createWeights(length):\n",
    "    w = np.random.rand(1, length-1)[0]\n",
    "    return w\n",
    "\n",
    "# Update weights \n",
    "def updateWeights(x, erro, weights, rate):\n",
    "    return weights + (rate) * (erro) * x[0:len(x) - 1]\n",
    "\n",
    "# Predict\n",
    "def predict(x, weights):\n",
    "    return np.dot(weights, x[0:len(x)-1])\n",
    "\n",
    "# Get error\n",
    "def iterationError(x, weights):\n",
    "    y = predict(x, weights)\n",
    "    d = desired_output(x)\n",
    "    return d - y\n",
    "\n",
    "# get class\n",
    "def desired_output(x):\n",
    "    return x[len(x)-1]\n",
    "\n",
    "# Training\n",
    "def training(training_set, weights, rate, epochs):\n",
    "    epoch = 0\n",
    "    trainingErrors = []\n",
    "\n",
    "    while epoch < epochs:\n",
    "        error = np.array([])\n",
    "\n",
    "        for i in training_set:\n",
    "            e = iterationError(i, weights)\n",
    "            weights = updateWeights(i, e, weights, rate)\n",
    "            error = np.append(error, e*e)\n",
    "        epoch += 1\n",
    "\n",
    "        epochError = error.mean()\n",
    "        np.random.shuffle(training_set)\n",
    "        trainingErrors.append(epochError)\n",
    "\n",
    "    return weights, trainingErrors\n",
    "\n",
    "# Test\n",
    "def test(test_set, weights):\n",
    "    testerrors = []\n",
    "    \n",
    "    for i in test_set:\n",
    "        e = iterationError(i, weights)\n",
    "        testerrors.append(e*e)\n",
    "    return np.mean(testerrors)\n",
    "\n",
    "# Evaluate an algorithm using hold-out\n",
    "def execute(dataset, realizations, learning_rate, epochs):\n",
    "    print(\"### ADALINE ###\")\n",
    "    print(\"PARÂMETROS: \")\n",
    "    print(\"\\t Taxa de aprendizagem: \", learning_rate)\n",
    "    print(\"\\t Número máximo de épocas: \", epochs)\n",
    "    print(\"\\t Total de realizações: \", realizations, \"\\n\")\n",
    "    data = dataset\n",
    "    error = []\n",
    "    sqrt = []\n",
    "    allweights = []\n",
    "    training_errors = []\n",
    "    test_errors = []\n",
    "    \n",
    "    for i in range(realizations):\n",
    "        print(\"### REALIZAÇÃO \", (i+1), \"##########\")\n",
    "        \n",
    "        weights = createWeights(data.shape[1])\n",
    "        np.random.shuffle(data)  # shuffle entre realizações\n",
    "        \n",
    "        training_set, test_set = divide(data)\n",
    "        \n",
    "        weights, errors_training = training(training_set, weights, learning_rate, epochs)\n",
    "        training_errors.append(errors_training)\n",
    "        allweights.append(weights)\n",
    "        \n",
    "        errors_test = test(test_set, weights)\n",
    "        test_errors.append(errors_test)\n",
    "\n",
    "        mse = np.mean(test_errors)\n",
    "        rmse = np.sqrt(mse)\n",
    "        error.append(mse)\n",
    "        sqrt.append(rmse)\n",
    "        \n",
    "        print(\"MSE: & \", round(mse, 5))\n",
    "        print(\"RMSE: & \", round(rmse, 5))\n",
    "        print(\"##########################\")\n",
    "\n",
    "        \n",
    "    print(\"MSE médio: \", round((sum(error) / realizations), 5))\n",
    "    print(\"RMSE médio: \", round((sum(sqrt) / realizations), 5))\n",
    "    \n",
    "    postprocessing(test_errors, training_errors, data, allweights)\n",
    "    print(\"### FIM ADALINE ###\")\n",
    "\n",
    "def postprocessing(test_errors, training_errors, dataset, allweights):\n",
    "    auxmin = 1000\n",
    "    min = 0\n",
    "    for i in range(len(test_errors)):\n",
    "        if test_errors[i] <= auxmin:\n",
    "            min = i\n",
    "            auxmin = test_errors[i]\n",
    "\n",
    "    print('Desvio Padrão: ', np.std(test_errors))\n",
    "    print('Plotando dados com o MSE minimo: ')\n",
    "\n",
    "    plotError(training_errors[min])\n",
    "    plotData2d(dataset, allweights[min])\n",
    "\n",
    "def plotError(error):\n",
    "    plt.plot(range(1, len(error) + 1), error)\n",
    "    plt.xlabel('Iterações')\n",
    "    plt.ylabel('Erros')\n",
    "    plt.show()\n",
    "\n",
    "def plotData2d(dataset, w):\n",
    "    y =[]\n",
    "    for i in dataset:\n",
    "        y.append(np.dot(w, i[0:len(i)-1]))\n",
    "\n",
    "    plt.scatter(dataset[:, 1], dataset[:, -1], s=3)\n",
    "    plt.plot(dataset[:, 1], y, color='r')\n",
    "    plt.xlabel('x')\n",
    "    plt.ylabel('y')\n",
    "    plt.title('ADALINE - Iteração com MSE minimo')\n",
    "    plt.show()\n",
    "    \n",
    "A = 3\n",
    "B = 4\n",
    "REALIZATIONS = 2\n",
    "RATE = 0.01\n",
    "EPOCHS = 200\n",
    "\n",
    "dataset = generateData2D(A, B)\n",
    "execute(dataset, REALIZATIONS, RATE, EPOCHS)"
   ]
  },
  {
   "cell_type": "code",
   "execution_count": 1,
   "metadata": {
    "pycharm": {
     "is_executing": false
    }
   },
   "outputs": [],
   "source": []
  }
 ],
 "metadata": {
  "kernelspec": {
   "display_name": "Python 3",
   "language": "python",
   "name": "python3"
  },
  "language_info": {
   "codemirror_mode": {
    "name": "ipython",
    "version": 3
   },
   "file_extension": ".py",
   "mimetype": "text/x-python",
   "name": "python",
   "nbconvert_exporter": "python",
   "pygments_lexer": "ipython3",
   "version": "3.7.5"
  },
  "pycharm": {
   "stem_cell": {
    "cell_type": "raw",
    "metadata": {
     "collapsed": false
    },
    "source": []
   }
  }
 },
 "nbformat": 4,
 "nbformat_minor": 1
}
