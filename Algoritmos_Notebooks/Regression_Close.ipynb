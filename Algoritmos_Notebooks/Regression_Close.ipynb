{
 "cells": [
  {
   "cell_type": "code",
   "execution_count": 3,
   "metadata": {
    "pycharm": {
     "is_executing": false
    }
   },
   "outputs": [
    {
     "name": "stdout",
     "output_type": "stream",
     "text": [
      "### REGRESSÃO ###\n",
      "PARÂMETROS: \n",
      "\t Total de realizações:  1 \n",
      "\n",
      "### REALIZAÇÃO  1 ##########\n",
      "MSE:  0.36835390450289845\n",
      "##########################\n",
      "MSE médio:  0.36835390450289845\n"
     ]
    },
    {
     "data": {
      "image/png": "[encoded data removed]",
      "text/plain": [
       "<Figure size 432x288 with 1 Axes>"
      ]
     },
     "metadata": {
      "needs_background": "light"
     },
     "output_type": "display_data"
    },
    {
     "name": "stdout",
     "output_type": "stream",
     "text": [
      "### FIM REGRESSÃO ###\n"
     ]
    }
   ],
   "source": [
    "import numpy as np\n",
    "import numpy.linalg as lin\n",
    "import matplotlib.pyplot as plt\n",
    "\n",
    "# Generate function ax + b\n",
    "def generateData2D(a, b):\n",
    "    x = np.linspace(0,10,50)\n",
    "    y = a * x + b\n",
    "    data = []\n",
    "    for i in range(len(y)):\n",
    "        y[i] += np.random.uniform(-1.0, 1.0)\n",
    "\n",
    "    for i, j in zip(x, y):\n",
    "        data.append([i, j])\n",
    "    \n",
    "    data = np.asarray(data)\n",
    "#    data = normalize(data)\n",
    "    data = insertbias(data)\n",
    "\n",
    "    return np.asarray(data)\n",
    "\n",
    "# Insert Bias\n",
    "def insertbias(data):\n",
    "    new = []\n",
    "    for i in range(len(data)):\n",
    "        new.append(np.insert(data[i], 0, -1))\n",
    "    return np.asarray(new)\n",
    "\n",
    "# Normalize\n",
    "def normalize(data):\n",
    "    c = data.shape[1] - 1\n",
    "    for i in range(data.shape[1]):\n",
    "        if(i < c):\n",
    "            max_ = max(data[:, i])\n",
    "            min_ = min(data[:, i])\n",
    "            for j in range(data.shape[0]):\n",
    "                data[j, i] = (data[j, i] - min_) / (max_ - min_)\n",
    "    return data\n",
    "\n",
    "# Divide into train and test\n",
    "def divide(data):\n",
    "    return data[0: int(len(data) * 0.8)], data[int(len(data) * 0.8):]\n",
    "\n",
    "# Divide into x and y \n",
    "def split_samples(dataset, n_attributes):\n",
    "    return np.array(dataset[:, 0:n_attributes-1]), np.array(dataset[:, -1])\n",
    "\n",
    "# Training\n",
    "def training(training_set):\n",
    "    x_train, y_train = split_samples(training_set, len(training_set[0]))\n",
    "    pseudo_inverse = np.dot(lin.inv(np.dot(x_train.T, x_train)), x_train.T)\n",
    "    weights = np.dot(pseudo_inverse,y_train)\n",
    "    return weights\n",
    "\n",
    "# Test\n",
    "def test(test_set, weights):\n",
    "    x_test, y_test = split_samples(test_set, len(test_set[0]))\n",
    "    number_examples = x_test.shape[0]\n",
    "    output = np.dot(x_test, weights)\n",
    "    error = sum((y_test-output)**2)*(1./(number_examples*1.0))\n",
    "    \n",
    "    return error\n",
    "\n",
    "# Evaluate an algorithm using hold-out\n",
    "def execute(dataset, realizations):\n",
    "    print(\"### REGRESSÃO ###\")\n",
    "    print(\"PARÂMETROS: \")\n",
    "    print(\"\\t Total de realizações: \", realizations, \"\\n\")\n",
    "    data = dataset\n",
    "    error = []\n",
    "    allweights = []\n",
    "    test_errors = []\n",
    "    \n",
    "    for i in range(realizations):\n",
    "        print(\"### REALIZAÇÃO \", (i+1), \"##########\")\n",
    "        np.random.shuffle(data)  # shuffle entre realizações\n",
    "        \n",
    "        training_set, test_set = divide(data)\n",
    "        \n",
    "        weights = training(training_set)\n",
    "        allweights.append(weights)\n",
    "        \n",
    "        errors_test = test(test_set, weights)\n",
    "        test_errors.append(errors_test)\n",
    "\n",
    "        mse = np.mean(test_errors)\n",
    "        error.append(mse)\n",
    "        \n",
    "        print(\"MSE: \", mse)\n",
    "        print(\"##########################\")\n",
    "\n",
    "    x, y = split_samples(data, len(data[0]))\n",
    "    print(\"MSE médio: \", (sum(error) / realizations))\n",
    "    plt.plot(x[:, 1], y, 'r+')\n",
    "    plt.plot(x[:, 1], np.dot(x, weights))\n",
    "    plt.show()\n",
    "    print(\"### FIM REGRESSÃO ###\")\n",
    "    \n",
    "A = 3\n",
    "B = 4\n",
    "REALIZATIONS = 1\n",
    "\n",
    "dataset = generateData2D(A, B)\n",
    "execute(dataset, REALIZATIONS)"
   ]
  },
  {
   "cell_type": "code",
   "execution_count": null,
   "metadata": {
    "pycharm": {
     "is_executing": false
    }
   },
   "outputs": [],
   "source": []
  },
  {
   "cell_type": "code",
   "execution_count": 50,
   "metadata": {
    "pycharm": {
     "is_executing": false
    }
   },
   "outputs": [],
   "source": []
  },
  {
   "cell_type": "code",
   "execution_count": 50,
   "metadata": {
    "pycharm": {
     "is_executing": false
    }
   },
   "outputs": [],
   "source": []
  },
  {
   "cell_type": "code",
   "execution_count": 50,
   "metadata": {
    "pycharm": {
     "is_executing": false
    }
   },
   "outputs": [],
   "source": []
  }
 ],
 "metadata": {
  "kernelspec": {
   "display_name": "Python 3",
   "language": "python",
   "name": "python3"
  },
  "language_info": {
   "codemirror_mode": {
    "name": "ipython",
    "version": 3
   },
   "file_extension": ".py",
   "mimetype": "text/x-python",
   "name": "python",
   "nbconvert_exporter": "python",
   "pygments_lexer": "ipython3",
   "version": "3.7.5"
  },
  "pycharm": {
   "stem_cell": {
    "cell_type": "raw",
    "source": [],
    "metadata": {
     "collapsed": false
    }
   }
  }
 },
 "nbformat": 4,
 "nbformat_minor": 1
}