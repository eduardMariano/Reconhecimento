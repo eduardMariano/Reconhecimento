{
 "cells": [
  {
   "cell_type": "code",
   "execution_count": 28,
   "metadata": {
    "pycharm": {
     "is_executing": false
    }
   },
   "outputs": [
    {
     "name": "stdout",
     "output_type": "stream",
     "text": [
      "### Naive Bayes Gaussian ###\n",
      "PARÂMETROS: \n",
      "\t Total de realizações:  1 \n",
      "\n",
      "### REALIZAÇÃO  1 ###\n",
      "### FASE DE training ###\n",
      "### FASE DE TESTES ###\n",
      "Taxa de acerto:  0.7704918032786885 \n",
      "\n",
      "Acurácia:  0.7704918032786885\n",
      "Variância da Acurácia:  0.0\n",
      "Desvio Padrão da Acurácia:  0.0\n",
      "### FIM do Naive Bayes Gaussian ###\n"
     ]
    }
   ],
   "source": [
    "import numpy as np\n",
    "import pandas as pd\n",
    "from math import sqrt, exp, pow, pi\n",
    "from sklearn.model_selection import train_test_split\n",
    "from sklearn.metrics import confusion_matrix\n",
    "\n",
    "# Select the class \n",
    "def get_class(group, dataset):\n",
    "        size = len(dataset[0]) - 1\n",
    "        for i in range(len(dataset)):\n",
    "            dataset[i][size] = 1 if dataset[i][size] == group else 0\n",
    "        return dataset\n",
    "\n",
    "# Normalize\n",
    "def normalize(dataset):\n",
    "        for i in range(dataset.shape[1]-1):\n",
    "            max_ = max(dataset[:, i])\n",
    "            min_ = min(dataset[:, i])\n",
    "            for j in range(dataset.shape[0]):\n",
    "                dataset[j, i] = (dataset[j, i] - min_) / (max_ - min_)\n",
    "        return dataset\n",
    "\n",
    "# Insert the bias\n",
    "def insert_bias(data):\n",
    "    group = []\n",
    "    for i in range(len(data)):\n",
    "        group.append(np.insert(data[i], 0, -1))\n",
    "    group = np.asarray(group)\n",
    "    return group\n",
    "\n",
    "# Divide into train and test\n",
    "def divide_samples(dataset):\n",
    "    return train_test_split(dataset, test_size=0.20)\n",
    "\n",
    "# Divide into x and y \n",
    "def split_samples(dataset, n_attributes):\n",
    "    return np.array(dataset[:, 0:n_attributes-1]), np.array(dataset[:, -1])\n",
    " \n",
    "# Calculate accuracy percentage\n",
    "def accuracy_metric(actual, predicted):\n",
    "\tcorrect = 0\n",
    "\tfor i in range(len(actual)):\n",
    "\t\tif actual[i] == predicted[i]:\n",
    "\t\t\tcorrect += 1\n",
    "\treturn correct / float(len(actual)) * 100.0\n",
    "\n",
    "def calculate_mean_variance(x_train, y_train):\n",
    "    n_class = len(np.unique(y_train))\n",
    "    mean = np.zeros((x_train.shape[1], n_class)).T\n",
    "    variance = np.zeros((x_train.shape[1], n_class)).T\n",
    "    theta = np.zeros((n_class, 1))\n",
    "    \n",
    "    for c in y_train:\n",
    "        theta[int(c)] += 1\n",
    "    theta = theta / x_train.shape[0]\n",
    "\n",
    "    for c in range(int(n_class)):\n",
    "        N_y = len(np.where(y_train == c)[0])\n",
    "        for i in range(x_train.shape[1]):\n",
    "            indices = np.where(y_train == c)[0]\n",
    "            mean[c][i] = (1. / (1. * N_y)) * sum(x_train[:, i][indices])\n",
    "            variance[c][i] = (1. / (1. * N_y)) * sum((x_train[:, i][indices] - mean[c][i]) ** 2)\n",
    "            \n",
    "    return mean, variance, theta\n",
    "    \n",
    "def prob_feature_class(mean, variance, theta, x):\n",
    "    Proby_x = np.zeros((mean.shape[0], 1))\n",
    "    for c in range(mean.shape[0]):\n",
    "        prob_class = np.log(theta[c])\n",
    "        for k in range(mean.shape[1]):\n",
    "            x_i = x[k]\n",
    "            num = (1. / sqrt(2. * pi * variance[c][k]))\n",
    "            den = (-1. / 2.) * ((x_i - mean[c][k]) / sqrt(variance[c][k])) ** 2\n",
    "            product = num * np.exp(den)\n",
    "            Proby_x[c] += np.log(product)\n",
    "        Proby_x[c] += prob_class\n",
    "    return Proby_x\n",
    "        \n",
    "# Training\n",
    "def train(train):\n",
    "    x_train, y_train = split_samples(train, len(train[0]))\n",
    "    return calculate_mean_variance(x_train, y_train)\n",
    "\n",
    "# Test\n",
    "def test(mean, variance, theta, test):\n",
    "    x_test, y_test = split_samples(test, len(test[0]))\n",
    "    count = 0\n",
    "    for i in range(x_test.shape[0]):\n",
    "        Proby_x = prob_feature_class(mean, variance, theta, x_test[i])\n",
    "        y_output = np.argmax(Proby_x)\n",
    "        count += 1 if y_output == y_test[i] else 0\n",
    "    return count / (1.0 * i)\n",
    "\n",
    "# Evaluate an algorithm using hold-out\n",
    "def execute(realizations, dataset):\n",
    "    print(\"### Naive Bayes Gaussian ###\")\n",
    "    print(\"PARÂMETROS: \")\n",
    "    print(\"\\t Total de realizações: \", realizations, \"\\n\")\n",
    "    rates = []\n",
    "\t\n",
    "    for i in range(realizations):\n",
    "        training_set, test_set = divide_samples(dataset)\n",
    "        print(\"### REALIZAÇÃO \", (i+1), \"###\")\n",
    "        print(\"### FASE DE training ###\")\n",
    "        mean, variance, theta = train(training_set)\n",
    "        print(\"### FASE DE TESTES ###\")\n",
    "        accuracy = test(mean, variance, theta, test_set)\n",
    "        print(\"Taxa de acerto: \", accuracy, \"\\n\")\n",
    "        rates.append(accuracy)\n",
    "\n",
    "    rates = np.array(rates)\n",
    "    print(\"Acurácia: \", rates.mean())\n",
    "    print(\"Variância da Acurácia: \", rates.var())\n",
    "    print(\"Desvio Padrão da Acurácia: \", rates.std())\n",
    "    print(\"### FIM do Naive Bayes Gaussian ###\")\n",
    "    \n",
    "# Main\n",
    "dataset = np.array(pd.read_csv(\"base/column_2C.dat\", delimiter=\",\", header=None))\n",
    "dataset = get_class(\"NO\", dataset)\n",
    "dataset = normalize(dataset)\n",
    "execute(1, dataset)"
   ]
  },
  {
   "cell_type": "code",
   "execution_count": 20,
   "metadata": {
    "pycharm": {
     "is_executing": false
    }
   },
   "outputs": [],
   "source": []
  }
 ],
 "metadata": {
  "kernelspec": {
   "display_name": "Python 3",
   "language": "python",
   "name": "python3"
  },
  "language_info": {
   "codemirror_mode": {
    "name": "ipython",
    "version": 3
   },
   "file_extension": ".py",
   "mimetype": "text/x-python",
   "name": "python",
   "nbconvert_exporter": "python",
   "pygments_lexer": "ipython3",
   "version": "3.7.5"
  },
  "pycharm": {
   "stem_cell": {
    "cell_type": "raw",
    "source": [],
    "metadata": {
     "collapsed": false
    }
   }
  }
 },
 "nbformat": 4,
 "nbformat_minor": 1
}